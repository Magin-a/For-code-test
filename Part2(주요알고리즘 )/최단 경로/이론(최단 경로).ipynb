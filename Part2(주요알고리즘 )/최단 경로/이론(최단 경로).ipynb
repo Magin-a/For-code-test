{
 "cells": [
  {
   "cell_type": "markdown",
   "metadata": {},
   "source": [
    "### 최단 경로 알고리즘 종류\n",
    "- 다익스트라\n",
    "- 플로이드 워셜\n",
    "- 벨만 포드(이 책에서는 다루지 않음)\n",
    "\n",
    "그리디 알고리즘과 다이나믹(DP)에 그대로 적용된다."
   ]
  },
  {
   "cell_type": "markdown",
   "metadata": {},
   "source": [
    "### 다익스트라\n",
    "- 그래프에서 여러개의 노드와 간선으로 연결 되어있을 때 음의 간선이 없을 때 정상적으로 작동한다.\n",
    "- 그리디 알고리즘의 가장 적은 비용으로 이동이라는 특징과 같다.\n",
    "\n",
    "1. 출발 노드 설정\n",
    "2. 최단 거리 테이블 초기화\n",
    "3. 방문하지 않은 노드 중에 최단 거리가 가장 짧은 노드 선택\n",
    "4. 해당 노드를 거쳐서 다른 노드로 가는 비용 계산 후 테이블 갱신\n",
    "5. 3~4번 반복\n",
    "\n",
    "#### 방법\n",
    "1. 구현이 쉽지만 동작이 느린 코드\n",
    "2. 구현하기가 조금 까다롭지만 빠르게 동작하는 코드 \n",
    "\n",
    "- 2번과 같은 코드를 짜도록 연습 필요\n"
   ]
  }
 ],
 "metadata": {
  "kernelspec": {
   "display_name": "Python 3.10.3 64-bit",
   "language": "python",
   "name": "python3"
  },
  "language_info": {
   "codemirror_mode": {
    "name": "ipython",
    "version": 3
   },
   "file_extension": ".py",
   "mimetype": "text/x-python",
   "name": "python",
   "nbconvert_exporter": "python",
   "pygments_lexer": "ipython3",
   "version": "3.10.3"
  },
  "orig_nbformat": 4,
  "vscode": {
   "interpreter": {
    "hash": "369f2c481f4da34e4445cda3fffd2e751bd1c4d706f27375911949ba6bb62e1c"
   }
  }
 },
 "nbformat": 4,
 "nbformat_minor": 2
}
